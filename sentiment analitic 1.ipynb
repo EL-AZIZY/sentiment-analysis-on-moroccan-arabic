{
 "cells": [
  {
   "cell_type": "code",
   "execution_count": 1,
   "id": "c91705b5",
   "metadata": {},
   "outputs": [
    {
     "name": "stdout",
     "output_type": "stream",
     "text": [
      "WARNING:tensorflow:From C:\\Users\\zouhi\\anaconda3\\Lib\\site-packages\\keras\\src\\losses.py:2976: The name tf.losses.sparse_softmax_cross_entropy is deprecated. Please use tf.compat.v1.losses.sparse_softmax_cross_entropy instead.\n",
      "\n"
     ]
    }
   ],
   "source": [
    "import pandas as pd\n",
    "# from tashaphyne.stemming import ArabicLightStemmer\n",
    "import seaborn as sns\n",
    "import numpy as np\n",
    "from tensorflow.keras import regularizers\n",
    "from tensorflow.keras.preprocessing.text import Tokenizer\n",
    "from tensorflow.keras.preprocessing.sequence import pad_sequences\n",
    "from tensorflow.keras.models import Sequential\n",
    "import tensorflow as tf\n",
    "from tensorflow.keras.layers import Conv1D , GlobalMaxPooling1D , Reshape , Embedding, LSTM, Dense,Bidirectional,Dropout\n",
    "from deep_translator import GoogleTranslator\n",
    "from deep_translator.exceptions import RequestError\n",
    "from nltk.stem import PorterStemmer\n",
    "from nltk.tokenize import word_tokenize\n",
    "import re\n",
    "from nltk.stem.isri import ISRIStemmer\n",
    "from sklearn.metrics import f1_score, accuracy_score\n",
    "import nlpaug.augmenter.word as naw\n",
    "from sklearn.model_selection import train_test_split"
   ]
  },
  {
   "cell_type": "markdown",
   "id": "3fb9cf8c",
   "metadata": {},
   "source": [
    "# Telechargement des donnees"
   ]
  },
  {
   "cell_type": "code",
   "execution_count": 2,
   "id": "8087f8b9",
   "metadata": {},
   "outputs": [],
   "source": [
    "data = pd.read_csv('train.csv')"
   ]
  },
  {
   "cell_type": "code",
   "execution_count": 3,
   "id": "dae1efb2",
   "metadata": {},
   "outputs": [
    {
     "data": {
      "text/html": [
       "<div>\n",
       "<style scoped>\n",
       "    .dataframe tbody tr th:only-of-type {\n",
       "        vertical-align: middle;\n",
       "    }\n",
       "\n",
       "    .dataframe tbody tr th {\n",
       "        vertical-align: top;\n",
       "    }\n",
       "\n",
       "    .dataframe thead th {\n",
       "        text-align: right;\n",
       "    }\n",
       "</style>\n",
       "<table border=\"1\" class=\"dataframe\">\n",
       "  <thead>\n",
       "    <tr style=\"text-align: right;\">\n",
       "      <th></th>\n",
       "      <th>ID</th>\n",
       "      <th>comment</th>\n",
       "      <th>label</th>\n",
       "    </tr>\n",
       "  </thead>\n",
       "  <tbody>\n",
       "    <tr>\n",
       "      <th>0</th>\n",
       "      <td>1</td>\n",
       "      <td>انا اوصي من هذا المنبر الكل للتوجه الى مراكز ا...</td>\n",
       "      <td>1</td>\n",
       "    </tr>\n",
       "    <tr>\n",
       "      <th>1</th>\n",
       "      <td>2</td>\n",
       "      <td>\\nهناك الكثير لا يفهم المقصود كورونا ليست صعبة...</td>\n",
       "      <td>1</td>\n",
       "    </tr>\n",
       "    <tr>\n",
       "      <th>2</th>\n",
       "      <td>3</td>\n",
       "      <td>الحمد لله ارقام مقبولة مقارنة بدول المنطقة لول...</td>\n",
       "      <td>1</td>\n",
       "    </tr>\n",
       "    <tr>\n",
       "      <th>3</th>\n",
       "      <td>4</td>\n",
       "      <td>انا شخصيا أؤيد ما فرضته السلطات من ضرورة الإدل...</td>\n",
       "      <td>1</td>\n",
       "    </tr>\n",
       "    <tr>\n",
       "      <th>4</th>\n",
       "      <td>5</td>\n",
       "      <td>\\nنفس الشئ في مدينة برشيد مراكز التلقيح مغلقة ...</td>\n",
       "      <td>1</td>\n",
       "    </tr>\n",
       "  </tbody>\n",
       "</table>\n",
       "</div>"
      ],
      "text/plain": [
       "   ID                                            comment  label\n",
       "0   1  انا اوصي من هذا المنبر الكل للتوجه الى مراكز ا...      1\n",
       "1   2  \\nهناك الكثير لا يفهم المقصود كورونا ليست صعبة...      1\n",
       "2   3  الحمد لله ارقام مقبولة مقارنة بدول المنطقة لول...      1\n",
       "3   4  انا شخصيا أؤيد ما فرضته السلطات من ضرورة الإدل...      1\n",
       "4   5  \\nنفس الشئ في مدينة برشيد مراكز التلقيح مغلقة ...      1"
      ]
     },
     "execution_count": 3,
     "metadata": {},
     "output_type": "execute_result"
    }
   ],
   "source": [
    "data.head()"
   ]
  },
  {
   "cell_type": "code",
   "execution_count": 4,
   "id": "8098e905",
   "metadata": {
    "scrolled": true
   },
   "outputs": [
    {
     "data": {
      "text/plain": [
       "['فى',\n",
       " 'في',\n",
       " 'كل',\n",
       " 'لم',\n",
       " 'لن',\n",
       " 'له',\n",
       " 'من',\n",
       " 'هو',\n",
       " 'هي',\n",
       " 'قوة',\n",
       " 'كما',\n",
       " 'لها',\n",
       " 'منذ',\n",
       " 'وقد',\n",
       " 'ولا',\n",
       " 'نفسه',\n",
       " 'لقاء',\n",
       " 'مقابل',\n",
       " 'هناك',\n",
       " 'وقال',\n",
       " 'وكان',\n",
       " 'نهاية',\n",
       " 'وقالت',\n",
       " 'وكانت',\n",
       " 'للامم',\n",
       " 'فيه',\n",
       " 'كلم',\n",
       " 'لكن',\n",
       " 'وفي',\n",
       " 'وقف',\n",
       " 'ولم',\n",
       " 'ومن',\n",
       " 'وهو',\n",
       " 'وهي',\n",
       " 'يوم',\n",
       " 'فيها',\n",
       " 'منها',\n",
       " 'مليار',\n",
       " 'لوكالة',\n",
       " 'يكون',\n",
       " 'يمكن',\n",
       " 'مليون',\n",
       " 'حيث',\n",
       " 'اكد',\n",
       " 'الا',\n",
       " 'اما',\n",
       " 'امس',\n",
       " 'السابق',\n",
       " 'التى',\n",
       " 'التي',\n",
       " 'اكثر',\n",
       " 'ايار',\n",
       " 'ايضا',\n",
       " 'ثلاثة',\n",
       " 'الذاتي',\n",
       " 'الاخيرة',\n",
       " 'الثاني',\n",
       " 'الثانية',\n",
       " 'الذى',\n",
       " 'الذي',\n",
       " 'الان',\n",
       " 'امام',\n",
       " 'ايام',\n",
       " 'خلال',\n",
       " 'حوالى',\n",
       " 'الذين',\n",
       " 'الاول',\n",
       " 'الاولى',\n",
       " 'بين',\n",
       " 'ذلك',\n",
       " 'دون',\n",
       " 'حول',\n",
       " 'حين',\n",
       " 'الف',\n",
       " 'الى',\n",
       " 'انه',\n",
       " 'اول',\n",
       " 'ضمن',\n",
       " 'انها',\n",
       " 'جميع',\n",
       " 'الماضي',\n",
       " 'الوقت',\n",
       " 'المقبل',\n",
       " 'اليوم',\n",
       " 'ـ',\n",
       " 'ف',\n",
       " 'و',\n",
       " 'و6',\n",
       " 'قد',\n",
       " 'لا',\n",
       " 'ما',\n",
       " 'مع',\n",
       " 'مساء',\n",
       " 'هذا',\n",
       " 'واحد',\n",
       " 'واضاف',\n",
       " 'واضافت',\n",
       " 'فان',\n",
       " 'قبل',\n",
       " 'قال',\n",
       " 'كان',\n",
       " 'لدى',\n",
       " 'نحو',\n",
       " 'هذه',\n",
       " 'وان',\n",
       " 'واكد',\n",
       " 'كانت',\n",
       " 'واوضح',\n",
       " 'مايو',\n",
       " 'ب',\n",
       " 'ا',\n",
       " 'أ',\n",
       " '،',\n",
       " 'عشر',\n",
       " 'عدد',\n",
       " 'عدة',\n",
       " 'عشرة',\n",
       " 'عدم',\n",
       " 'عام',\n",
       " 'عاما',\n",
       " 'عن',\n",
       " 'عند',\n",
       " 'عندما',\n",
       " 'على',\n",
       " 'عليه',\n",
       " 'عليها',\n",
       " 'زيارة',\n",
       " 'سنة',\n",
       " 'سنوات',\n",
       " 'تم',\n",
       " 'ضد',\n",
       " 'بعد',\n",
       " 'بعض',\n",
       " 'اعادة',\n",
       " 'اعلنت',\n",
       " 'بسبب',\n",
       " 'حتى',\n",
       " 'اذا',\n",
       " 'احد',\n",
       " 'اثر',\n",
       " 'برس',\n",
       " 'باسم',\n",
       " 'غدا',\n",
       " 'شخصا',\n",
       " 'صباح',\n",
       " 'اطار',\n",
       " 'اربعة',\n",
       " 'اخرى',\n",
       " 'بان',\n",
       " 'اجل',\n",
       " 'غير',\n",
       " 'بشكل',\n",
       " 'حاليا',\n",
       " 'بن',\n",
       " 'به',\n",
       " 'ثم',\n",
       " 'اف',\n",
       " 'ان',\n",
       " 'او',\n",
       " 'اي',\n",
       " 'بها',\n",
       " 'صفر']"
      ]
     },
     "execution_count": 4,
     "metadata": {},
     "output_type": "execute_result"
    }
   ],
   "source": [
    "chemin_fichier = \"stop_words_arabic.txt\"\n",
    "\n",
    "StopWords = []\n",
    "\n",
    "with open(chemin_fichier, 'r',encoding='utf-8') as fichier:\n",
    "    StopWords = fichier.readlines()\n",
    "StopWords = [mot.strip() for mot in StopWords]\n",
    "StopWords"
   ]
  },
  {
   "cell_type": "markdown",
   "id": "38c62bf9",
   "metadata": {},
   "source": [
    "# "
   ]
  },
  {
   "cell_type": "markdown",
   "id": "a0b9271c",
   "metadata": {},
   "source": [
    "# Pretraitment des donnees"
   ]
  },
  {
   "cell_type": "code",
   "execution_count": 5,
   "id": "79d67d08",
   "metadata": {},
   "outputs": [
    {
     "data": {
      "text/plain": [
       "ID         0\n",
       "comment    0\n",
       "label      0\n",
       "dtype: int64"
      ]
     },
     "execution_count": 5,
     "metadata": {},
     "output_type": "execute_result"
    }
   ],
   "source": [
    "data.isna().sum()"
   ]
  },
  {
   "cell_type": "code",
   "execution_count": 6,
   "id": "b009b10e",
   "metadata": {},
   "outputs": [
    {
     "data": {
      "image/png": "[encoded data removed]",
      "text/plain": [
       "<Figure size 640x480 with 1 Axes>"
      ]
     },
     "metadata": {},
     "output_type": "display_data"
    }
   ],
   "source": [
    "sb = sns.countplot(data,x='label')"
   ]
  },
  {
   "cell_type": "code",
   "execution_count": 7,
   "id": "e0b6742e",
   "metadata": {},
   "outputs": [
    {
     "data": {
      "text/plain": [
       "'انا اوصي من هذا المنبر الكل للتوجه الى مراكز التلقيح صدقوني الامر ليس مزحة او مرض الزكام هو بالفعل مرض قاتل انا ايضا كنت من الذين لا يريدون اللقاح لكن عندما اصيب زوج اختى وشاهدت حالته التي وصلت الى الموت لولا لكف الله به لكان الان من المرحومين وعمره في الثلاثينلا تصدقوا الشائعات حول المرض وانه غير قاتل ويصيب فقط العواجيز هذا كله كذب بل يصيبىاي احد ويقتل حتى اشد الناس قوةاتمنى من بعض المغاربة ان يقدموا مصلحة المجتمع على انانيتهم الخاصة وكفى نشر ترهات وسخافات '"
      ]
     },
     "execution_count": 7,
     "metadata": {},
     "output_type": "execute_result"
    }
   ],
   "source": [
    "data[\"comment\"][0]"
   ]
  },
  {
   "cell_type": "code",
   "execution_count": 8,
   "id": "f11220da",
   "metadata": {},
   "outputs": [],
   "source": [
    "\n",
    "\n",
    "def supprimerCaracteresSpeciaux(df, colonne, caracteres_a_supprimer, remplacement):\n",
    "    df_copy = df.copy()\n",
    "    for i in range(len(df_copy[colonne])):\n",
    "        texte_original = df_copy.at[i, colonne]\n",
    "        texte_modifie = \"\"\n",
    "        for lettre in texte_original:\n",
    "            if lettre not in caracteres_a_supprimer:\n",
    "                texte_modifie += lettre\n",
    "            else:\n",
    "                texte_modifie += remplacement\n",
    "        df_copy.at[i, colonne] = texte_modifie\n",
    "    return df_copy   \n",
    "        \n",
    "        \n",
    "def supprimerStopWord(df, colonne, stopwords_df):\n",
    "    stopwords_list = StopWords\n",
    "\n",
    "    for i in range(len(df[colonne])):\n",
    "        mots = df[colonne][i].split(' ')\n",
    "        paragraph = \" \".join(mot for mot in mots if mot.lower() not in stopwords_list)\n",
    "        df.loc[i, colonne] = paragraph\n",
    "\n",
    "\n",
    "\n",
    "def stemming(text):\n",
    "    st = ISRIStemmer()\n",
    "    stemmed_words = []\n",
    "    word_tokens = word_tokenize(text) \n",
    "    for w in word_tokens:\n",
    "        stemmed_words.append(st.stem(w))\n",
    "    stemmed_words = \" \".join(stemmed_words)\n",
    "    return stemmed_words\n",
    "\n",
    "\n",
    "def remove_english_characters(text):\n",
    "        return re.sub(r'[a-zA-Z]+', '', text)\n",
    "\n",
    "def NormalizeArabic(text):\n",
    "    text = re.sub(\"[إأٱآا]\", \"ا\", text)\n",
    "    text = re.sub(\"ى\", \"ي\", text)\n",
    "    text = re.sub(\"ؤ\", \"ء\", text)\n",
    "    text = re.sub(\"ئ\", \"ء\", text)\n",
    "    text = re.sub(\"ة\", \"ه\", text)\n",
    "    return text\n"
   ]
  },
  {
   "cell_type": "code",
   "execution_count": 9,
   "id": "518977e5",
   "metadata": {},
   "outputs": [
    {
     "data": {
      "text/html": [
       "<div>\n",
       "<style scoped>\n",
       "    .dataframe tbody tr th:only-of-type {\n",
       "        vertical-align: middle;\n",
       "    }\n",
       "\n",
       "    .dataframe tbody tr th {\n",
       "        vertical-align: top;\n",
       "    }\n",
       "\n",
       "    .dataframe thead th {\n",
       "        text-align: right;\n",
       "    }\n",
       "</style>\n",
       "<table border=\"1\" class=\"dataframe\">\n",
       "  <thead>\n",
       "    <tr style=\"text-align: right;\">\n",
       "      <th></th>\n",
       "      <th>ID</th>\n",
       "      <th>comment</th>\n",
       "      <th>label</th>\n",
       "    </tr>\n",
       "  </thead>\n",
       "  <tbody>\n",
       "    <tr>\n",
       "      <th>0</th>\n",
       "      <td>1</td>\n",
       "      <td>انا اوصي المنبر الكل للتوجه مراكز التلقيح صدقو...</td>\n",
       "      <td>1</td>\n",
       "    </tr>\n",
       "    <tr>\n",
       "      <th>1</th>\n",
       "      <td>2</td>\n",
       "      <td>الكثير يفهم المقصود كورونا ليست صعبة الشباب ل...</td>\n",
       "      <td>1</td>\n",
       "    </tr>\n",
       "    <tr>\n",
       "      <th>2</th>\n",
       "      <td>3</td>\n",
       "      <td>الحمد لله ارقام مقبولة مقارنة بدول المنطقة لول...</td>\n",
       "      <td>1</td>\n",
       "    </tr>\n",
       "    <tr>\n",
       "      <th>3</th>\n",
       "      <td>4</td>\n",
       "      <td>انا شخصيا أؤيد فرضته السلطات ضرورة الإدلاء بجو...</td>\n",
       "      <td>1</td>\n",
       "    </tr>\n",
       "    <tr>\n",
       "      <th>4</th>\n",
       "      <td>5</td>\n",
       "      <td>نفس الشئ مدينة برشيد مراكز التلقيح مغلقة إلى ...</td>\n",
       "      <td>1</td>\n",
       "    </tr>\n",
       "    <tr>\n",
       "      <th>...</th>\n",
       "      <td>...</td>\n",
       "      <td>...</td>\n",
       "      <td>...</td>\n",
       "    </tr>\n",
       "    <tr>\n",
       "      <th>1915</th>\n",
       "      <td>1916</td>\n",
       "      <td>والله دمرونا وتعداو علينا شي ميقراش شي ميخدمش...</td>\n",
       "      <td>0</td>\n",
       "    </tr>\n",
       "    <tr>\n",
       "      <th>1916</th>\n",
       "      <td>1917</td>\n",
       "      <td>لقاح موت سم فيقو عباد الله</td>\n",
       "      <td>0</td>\n",
       "    </tr>\n",
       "    <tr>\n",
       "      <th>1917</th>\n",
       "      <td>1918</td>\n",
       "      <td>اللقاح آمن، تجاهل عشرات شهادات الأطباء العالم،...</td>\n",
       "      <td>0</td>\n",
       "    </tr>\n",
       "    <tr>\n",
       "      <th>1918</th>\n",
       "      <td>1919</td>\n",
       "      <td>لنكن واقعيين…لا يجب فرظ التلقيح بالقوة  انا تل...</td>\n",
       "      <td>0</td>\n",
       "    </tr>\n",
       "    <tr>\n",
       "      <th>1919</th>\n",
       "      <td>1920</td>\n",
       "      <td>التنسيقية الوطنية للمغاربة الرافضين للتلقيح ...</td>\n",
       "      <td>0</td>\n",
       "    </tr>\n",
       "  </tbody>\n",
       "</table>\n",
       "<p>1920 rows × 3 columns</p>\n",
       "</div>"
      ],
      "text/plain": [
       "        ID                                            comment  label\n",
       "0        1  انا اوصي المنبر الكل للتوجه مراكز التلقيح صدقو...      1\n",
       "1        2   الكثير يفهم المقصود كورونا ليست صعبة الشباب ل...      1\n",
       "2        3  الحمد لله ارقام مقبولة مقارنة بدول المنطقة لول...      1\n",
       "3        4  انا شخصيا أؤيد فرضته السلطات ضرورة الإدلاء بجو...      1\n",
       "4        5   نفس الشئ مدينة برشيد مراكز التلقيح مغلقة إلى ...      1\n",
       "...    ...                                                ...    ...\n",
       "1915  1916   والله دمرونا وتعداو علينا شي ميقراش شي ميخدمش...      0\n",
       "1916  1917                        لقاح موت سم فيقو عباد الله       0\n",
       "1917  1918  اللقاح آمن، تجاهل عشرات شهادات الأطباء العالم،...      0\n",
       "1918  1919  لنكن واقعيين…لا يجب فرظ التلقيح بالقوة  انا تل...      0\n",
       "1919  1920    التنسيقية الوطنية للمغاربة الرافضين للتلقيح ...      0\n",
       "\n",
       "[1920 rows x 3 columns]"
      ]
     },
     "execution_count": 9,
     "metadata": {},
     "output_type": "execute_result"
    }
   ],
   "source": [
    "caracteres_a_supprimer = ['0','1','2','3','4','5','6','7','8','9','💕💉','#','!', '@', '$', '%', '^', '*', '\\n', '\\t', '\\s', '(', ')', '_', '\\-', '+', '=', '|', '?', '>', '.', ',', '[', ']', '{', '}', '`', '~', '\\\\', '/','؛']\n",
    "dt=supprimerCaracteresSpeciaux(data, 'comment',caracteres_a_supprimer,\" \")\n",
    "supprimerStopWord(dt, 'comment', StopWords)\n",
    "dt"
   ]
  },
  {
   "cell_type": "code",
   "execution_count": 10,
   "id": "e1cb04e9",
   "metadata": {
    "scrolled": true
   },
   "outputs": [],
   "source": [
    "# # SupprimNombre(dt, 'comment')\n",
    "# dt = dt.dropna()\n",
    "# dt"
   ]
  },
  {
   "cell_type": "code",
   "execution_count": 11,
   "id": "f447e27c",
   "metadata": {
    "scrolled": true
   },
   "outputs": [
    {
     "data": {
      "text/html": [
       "<div>\n",
       "<style scoped>\n",
       "    .dataframe tbody tr th:only-of-type {\n",
       "        vertical-align: middle;\n",
       "    }\n",
       "\n",
       "    .dataframe tbody tr th {\n",
       "        vertical-align: top;\n",
       "    }\n",
       "\n",
       "    .dataframe thead th {\n",
       "        text-align: right;\n",
       "    }\n",
       "</style>\n",
       "<table border=\"1\" class=\"dataframe\">\n",
       "  <thead>\n",
       "    <tr style=\"text-align: right;\">\n",
       "      <th></th>\n",
       "      <th>ID</th>\n",
       "      <th>comment</th>\n",
       "      <th>label</th>\n",
       "    </tr>\n",
       "  </thead>\n",
       "  <tbody>\n",
       "    <tr>\n",
       "      <th>0</th>\n",
       "      <td>1</td>\n",
       "      <td>انا اوصي المنبر الكل للتوجه مراكز التلقيح صدقو...</td>\n",
       "      <td>1</td>\n",
       "    </tr>\n",
       "    <tr>\n",
       "      <th>1</th>\n",
       "      <td>2</td>\n",
       "      <td>الكثير يفهم المقصود كورونا ليست صعبة الشباب ل...</td>\n",
       "      <td>1</td>\n",
       "    </tr>\n",
       "    <tr>\n",
       "      <th>2</th>\n",
       "      <td>3</td>\n",
       "      <td>الحمد لله ارقام مقبولة مقارنة بدول المنطقة لول...</td>\n",
       "      <td>1</td>\n",
       "    </tr>\n",
       "    <tr>\n",
       "      <th>3</th>\n",
       "      <td>4</td>\n",
       "      <td>انا شخصيا أؤيد فرضته السلطات ضرورة الإدلاء بجو...</td>\n",
       "      <td>1</td>\n",
       "    </tr>\n",
       "    <tr>\n",
       "      <th>4</th>\n",
       "      <td>5</td>\n",
       "      <td>نفس الشئ مدينة برشيد مراكز التلقيح مغلقة إلى ...</td>\n",
       "      <td>1</td>\n",
       "    </tr>\n",
       "    <tr>\n",
       "      <th>...</th>\n",
       "      <td>...</td>\n",
       "      <td>...</td>\n",
       "      <td>...</td>\n",
       "    </tr>\n",
       "    <tr>\n",
       "      <th>1915</th>\n",
       "      <td>1916</td>\n",
       "      <td>والله دمرونا وتعداو علينا شي ميقراش شي ميخدمش...</td>\n",
       "      <td>0</td>\n",
       "    </tr>\n",
       "    <tr>\n",
       "      <th>1916</th>\n",
       "      <td>1917</td>\n",
       "      <td>لقاح موت سم فيقو عباد الله</td>\n",
       "      <td>0</td>\n",
       "    </tr>\n",
       "    <tr>\n",
       "      <th>1917</th>\n",
       "      <td>1918</td>\n",
       "      <td>اللقاح آمن، تجاهل عشرات شهادات الأطباء العالم،...</td>\n",
       "      <td>0</td>\n",
       "    </tr>\n",
       "    <tr>\n",
       "      <th>1918</th>\n",
       "      <td>1919</td>\n",
       "      <td>لنكن واقعيين…لا يجب فرظ التلقيح بالقوة  انا تل...</td>\n",
       "      <td>0</td>\n",
       "    </tr>\n",
       "    <tr>\n",
       "      <th>1919</th>\n",
       "      <td>1920</td>\n",
       "      <td>التنسيقية الوطنية للمغاربة الرافضين للتلقيح ...</td>\n",
       "      <td>0</td>\n",
       "    </tr>\n",
       "  </tbody>\n",
       "</table>\n",
       "<p>1920 rows × 3 columns</p>\n",
       "</div>"
      ],
      "text/plain": [
       "        ID                                            comment  label\n",
       "0        1  انا اوصي المنبر الكل للتوجه مراكز التلقيح صدقو...      1\n",
       "1        2   الكثير يفهم المقصود كورونا ليست صعبة الشباب ل...      1\n",
       "2        3  الحمد لله ارقام مقبولة مقارنة بدول المنطقة لول...      1\n",
       "3        4  انا شخصيا أؤيد فرضته السلطات ضرورة الإدلاء بجو...      1\n",
       "4        5   نفس الشئ مدينة برشيد مراكز التلقيح مغلقة إلى ...      1\n",
       "...    ...                                                ...    ...\n",
       "1915  1916   والله دمرونا وتعداو علينا شي ميقراش شي ميخدمش...      0\n",
       "1916  1917                        لقاح موت سم فيقو عباد الله       0\n",
       "1917  1918  اللقاح آمن، تجاهل عشرات شهادات الأطباء العالم،...      0\n",
       "1918  1919  لنكن واقعيين…لا يجب فرظ التلقيح بالقوة  انا تل...      0\n",
       "1919  1920    التنسيقية الوطنية للمغاربة الرافضين للتلقيح ...      0\n",
       "\n",
       "[1920 rows x 3 columns]"
      ]
     },
     "execution_count": 11,
     "metadata": {},
     "output_type": "execute_result"
    }
   ],
   "source": [
    "for index, row in dt.iterrows():\n",
    "    row['comment'] = remove_english_characters(row['comment'])\n",
    "#     row['comment'] = NormalizeArabic(row['comment'])\n",
    "#     row['comment'] = stemming(row['comment'])\n",
    "\n",
    "    new_df = pd.DataFrame({'comment': [row['comment']]}, index=[index])\n",
    "    dt.update(new_df)\n",
    "dt"
   ]
  },
  {
   "cell_type": "code",
   "execution_count": 12,
   "id": "9c592558",
   "metadata": {},
   "outputs": [
    {
     "data": {
      "text/plain": [
       "'  التنسيقية الوطنية للمغاربة الرافضين للتلقيح الإجباري ستنزل للشارع '"
      ]
     },
     "execution_count": 12,
     "metadata": {},
     "output_type": "execute_result"
    }
   ],
   "source": [
    "dt[\"comment\"][1919]"
   ]
  },
  {
   "cell_type": "markdown",
   "id": "cf69a11b",
   "metadata": {},
   "source": [
    "# "
   ]
  },
  {
   "cell_type": "markdown",
   "id": "4f2b5673",
   "metadata": {},
   "source": [
    "# Data Augmentation"
   ]
  },
  {
   "cell_type": "code",
   "execution_count": 13,
   "id": "67c7caa5",
   "metadata": {},
   "outputs": [
    {
     "data": {
      "text/html": [
       "<div>\n",
       "<style scoped>\n",
       "    .dataframe tbody tr th:only-of-type {\n",
       "        vertical-align: middle;\n",
       "    }\n",
       "\n",
       "    .dataframe tbody tr th {\n",
       "        vertical-align: top;\n",
       "    }\n",
       "\n",
       "    .dataframe thead th {\n",
       "        text-align: right;\n",
       "    }\n",
       "</style>\n",
       "<table border=\"1\" class=\"dataframe\">\n",
       "  <thead>\n",
       "    <tr style=\"text-align: right;\">\n",
       "      <th></th>\n",
       "      <th>comment</th>\n",
       "      <th>label</th>\n",
       "    </tr>\n",
       "  </thead>\n",
       "  <tbody>\n",
       "    <tr>\n",
       "      <th>0</th>\n",
       "      <td>انت حر جسدك ،ومن حقك تمتنع حقنه بمواد  يعلمها ...</td>\n",
       "      <td>0</td>\n",
       "    </tr>\n",
       "    <tr>\n",
       "      <th>1</th>\n",
       "      <td>اللقاح ضروري انتها الموضوع</td>\n",
       "      <td>1</td>\n",
       "    </tr>\n",
       "    <tr>\n",
       "      <th>2</th>\n",
       "      <td>التحاد الاروبي الوليات المتحدة سيبنون معمل ال...</td>\n",
       "      <td>0</td>\n",
       "    </tr>\n",
       "    <tr>\n",
       "      <th>3</th>\n",
       "      <td>تضرر وذهب إليهم يقولون السبب منك وليس اللقاح</td>\n",
       "      <td>0</td>\n",
       "    </tr>\n",
       "    <tr>\n",
       "      <th>4</th>\n",
       "      <td>رأيي المناعة الجماعية الحل تمويل الميدان الصح...</td>\n",
       "      <td>0</td>\n",
       "    </tr>\n",
       "    <tr>\n",
       "      <th>...</th>\n",
       "      <td>...</td>\n",
       "      <td>...</td>\n",
       "    </tr>\n",
       "    <tr>\n",
       "      <th>3835</th>\n",
       "      <td>الحل بسيط :  اللقاح</td>\n",
       "      <td>1</td>\n",
       "    </tr>\n",
       "    <tr>\n",
       "      <th>3836</th>\n",
       "      <td>هل الخبر صحيح وإن نسبة كبيرة المغاربة وخصوصا ك...</td>\n",
       "      <td>0</td>\n",
       "    </tr>\n",
       "    <tr>\n",
       "      <th>3837</th>\n",
       "      <td>هاذ حقوق الانسان المغرب بزناسة ديال بصح تبتز ا...</td>\n",
       "      <td>1</td>\n",
       "    </tr>\n",
       "    <tr>\n",
       "      <th>3838</th>\n",
       "      <td>فلا يعقل شخص أشخاص يشككون التلقيح ويلعبون دور ...</td>\n",
       "      <td>1</td>\n",
       "    </tr>\n",
       "    <tr>\n",
       "      <th>3839</th>\n",
       "      <td>يعقوب مراكش قولك قمت بالتلقيح تشعر باي شيء لي...</td>\n",
       "      <td>0</td>\n",
       "    </tr>\n",
       "  </tbody>\n",
       "</table>\n",
       "<p>3840 rows × 2 columns</p>\n",
       "</div>"
      ],
      "text/plain": [
       "                                                comment  label\n",
       "0     انت حر جسدك ،ومن حقك تمتنع حقنه بمواد  يعلمها ...      0\n",
       "1                            اللقاح ضروري انتها الموضوع      1\n",
       "2      التحاد الاروبي الوليات المتحدة سيبنون معمل ال...      0\n",
       "3          تضرر وذهب إليهم يقولون السبب منك وليس اللقاح      0\n",
       "4      رأيي المناعة الجماعية الحل تمويل الميدان الصح...      0\n",
       "...                                                 ...    ...\n",
       "3835                              الحل بسيط :  اللقاح        1\n",
       "3836  هل الخبر صحيح وإن نسبة كبيرة المغاربة وخصوصا ك...      0\n",
       "3837  هاذ حقوق الانسان المغرب بزناسة ديال بصح تبتز ا...      1\n",
       "3838  فلا يعقل شخص أشخاص يشككون التلقيح ويلعبون دور ...      1\n",
       "3839   يعقوب مراكش قولك قمت بالتلقيح تشعر باي شيء لي...      0\n",
       "\n",
       "[3840 rows x 2 columns]"
      ]
     },
     "execution_count": 13,
     "metadata": {},
     "output_type": "execute_result"
    }
   ],
   "source": [
    "# Récupération des phrases et labels depuis data\n",
    "phrases = dt['comment'].tolist()\n",
    "labels = dt['label'].tolist()\n",
    "\n",
    "# Initialisation de l'augmenteur de synonymes\n",
    "aug = naw.SynonymAug(aug_src='wordnet')\n",
    "\n",
    "# Augmentation des phrases\n",
    "augmented_phrases = [aug.augment(phrase) for phrase in phrases]\n",
    "\n",
    "# Création de la liste complète de phrases et de labels\n",
    "all_phrases = phrases + augmented_phrases\n",
    "all_labels = labels + labels  \n",
    "\n",
    "# Mélange aléatoire des données\n",
    "shuffled_indices = np.random.permutation(len(all_phrases))\n",
    "\n",
    "# Création du dataframe pandas avec les données mélangées\n",
    "df = pd.DataFrame({\n",
    "    'comment': [all_phrases[i] for i in shuffled_indices],\n",
    "    'label': [all_labels[i] for i in shuffled_indices]\n",
    "})\n",
    "\n",
    "caracteres_a_supprimer = ['0','1','2','3','4','5','6','7','8','9','💕💉','#','!','?', '@', '$', '%', '^', '*', '\\n', '\\t', '\\s', '(', ')', '_', '\\-', '+', '=', '|', '?', '>', '.', ',', '[', ']', '{', '}', '`', '~', '\\\\', '/']\n",
    "df=supprimerCaracteresSpeciaux(df, 'comment',caracteres_a_supprimer,\" \")\n",
    "df\n"
   ]
  },
  {
   "cell_type": "code",
   "execution_count": 14,
   "id": "84e85dc6",
   "metadata": {},
   "outputs": [
    {
     "name": "stdout",
     "output_type": "stream",
     "text": [
      " الكثير يفهم المقصود كورونا ليست صعبة الشباب لكنها صعبة اصحاب مرض مزمن كالسكري …  لهذا الدولة اختارت تنقد امهاتنا ابائنا مرضى السكري قام سيعم الجميع الحقيقة يتم التلقيح يتم محاصرة الفيروس بالتلقيح ينتهي المشكل أن يعم الفيروس الشرائح لهذا نتمنى تسرع الدولة مخططها لما تأثير محاربة الوباء اقرب وقت ممكن نتمنى الله  التوفيق لكل يساهم بعيد قريب انجاح المهمة الشكر كذلك لصاحب الجلالة يبخل لمثل المبادرة ستعود بالصحة العافية تحية للشعب المغربي طنجة إلى الݣرݣرات \n"
     ]
    }
   ],
   "source": [
    "print(all_phrases[1])"
   ]
  },
  {
   "cell_type": "code",
   "execution_count": 15,
   "id": "10ab438b",
   "metadata": {},
   "outputs": [
    {
     "data": {
      "text/plain": [
       "'اصحاب التعليقات السلبية إن افترضنا جدلا أن إنتاج لقاح كورونا مفيد الراهن تدعون أنها فرقعات فالرهان أكبر بكتير: المغرب يراهن اكتساب خبرة تقنية صنع لقاحات البحت العلمي المتخصص الميدان التوفر موارد بشرية مؤهلة لذلك الأهداف المتوخاة الخطوات أما البيع الشراء فلن يربح منه المغرب الشيء الكتير لأن مساهمته السلسلة القيمية ضعيفة مقارنة بنسبة توطين الكنتوج نهار يوقف المغرب رجليه تولي عندو “ صنع بالمغرب ” ليسونس مغربية داك ساعات يتجرأ مخبول منكم هكذا تعليقات واللي مابغاتش تفهم ليه هده المسألة يمشي لكزناية قنيطرة باش يشوف الصناعات المعقدة للسيارات فين وصلات الكفاءات المغربية تطورت ملحوظ وطلو علا جيرانكم بقاو يصوبو البنوات بالرغم الثمن سوف نؤديه لذلك إلا أننا متيقنون بلوغ الأهداف التنموية تليق بمكانة المغرب كواجهة إفريقية بامتياز'"
      ]
     },
     "execution_count": 15,
     "metadata": {},
     "output_type": "execute_result"
    }
   ],
   "source": [
    "df['comment'][1919]"
   ]
  },
  {
   "cell_type": "code",
   "execution_count": 16,
   "id": "e90ac1e3",
   "metadata": {},
   "outputs": [
    {
     "data": {
      "image/png": "[encoded data removed]",
      "text/plain": [
       "<Figure size 640x480 with 1 Axes>"
      ]
     },
     "metadata": {},
     "output_type": "display_data"
    }
   ],
   "source": [
    "sb = sns.countplot(df,x='label')"
   ]
  },
  {
   "cell_type": "code",
   "execution_count": 17,
   "id": "72f4fb92",
   "metadata": {},
   "outputs": [
    {
     "data": {
      "text/plain": [
       "746     اللقاح اخذاوه وماتو وخذاوه وتشلو ودابا اش خاصك...\n",
       "3837    هاذ حقوق الانسان المغرب بزناسة ديال بصح تبتز ا...\n",
       "3218     لمن يقول المغرب كوريا الشمالية فهو خاطئ  كوري...\n",
       "2778    معادلة متناقضة … في ياتي المواطنون للتلقيح نجد...\n",
       "1904    بفضل السهر والتتبع لجلالة الملك صحة وأمن المغا...\n",
       "                              ...                        \n",
       "1018                     أحسن تلقيح جونسون، تجربتي الخاصة\n",
       "449     عندكم فهم غلط اللقاح اللقاح راه كايمنع الفيروس...\n",
       "1288                        يجب منع الجماهير جواز التلقيح\n",
       "376     اللقاح يبقى ليس  إجباري  لان كتير ناس تعاني أم...\n",
       "1592    كفى استحمار الناس القول أنها آمنة هل قامت وزار...\n",
       "Name: comment, Length: 768, dtype: object"
      ]
     },
     "execution_count": 17,
     "metadata": {},
     "output_type": "execute_result"
    }
   ],
   "source": [
    "X=df['comment']\n",
    "Y=df['label']\n",
    "x_train,x_test,y_train,y_test = train_test_split(X,Y, test_size=0.2, random_state=42)\n",
    "x_test"
   ]
  },
  {
   "cell_type": "markdown",
   "id": "ae8ad511",
   "metadata": {},
   "source": [
    "# "
   ]
  },
  {
   "cell_type": "markdown",
   "id": "cc854df5",
   "metadata": {},
   "source": [
    "# Tokenisation des donnees"
   ]
  },
  {
   "cell_type": "code",
   "execution_count": 18,
   "id": "150c3a5f",
   "metadata": {},
   "outputs": [],
   "source": [
    "\n",
    "vocab_size = 90000\n",
    "max_length = 120\n",
    "trunc_type='post'\n",
    "padding_type='post'\n",
    "oov_tok = \"<OOV>\"\n",
    "\n",
    "tokenizer = Tokenizer(num_words=vocab_size, oov_token=oov_tok)\n",
    "\n",
    "tokenizer.fit_on_texts(x_train)\n",
    "word_index = tokenizer.word_index\n",
    "\n",
    "training_sequences = tokenizer.texts_to_sequences(x_train)\n",
    "training_padded = pad_sequences(training_sequences, maxlen=max_length, padding=padding_type, truncating=trunc_type)\n",
    "\n",
    "testing_sequences = tokenizer.texts_to_sequences(x_test)\n",
    "testing_padded = pad_sequences(testing_sequences, maxlen=max_length, padding=padding_type, truncating=trunc_type)\n",
    "\n",
    "training_labels = np.array(y_train)\n",
    "testing_labels = np.array(y_test)"
   ]
  },
  {
   "cell_type": "code",
   "execution_count": 19,
   "id": "a865bab3",
   "metadata": {},
   "outputs": [
    {
     "name": "stdout",
     "output_type": "stream",
     "text": [
      "WARNING:tensorflow:From C:\\Users\\zouhi\\anaconda3\\Lib\\site-packages\\keras\\src\\backend.py:873: The name tf.get_default_graph is deprecated. Please use tf.compat.v1.get_default_graph instead.\n",
      "\n"
     ]
    }
   ],
   "source": [
    "\n",
    "# Parameters\n",
    "embedding_dim = 32\n",
    "lstm_dim = 128\n",
    "dense_dim = 24\n",
    "\n",
    "\n",
    "\n",
    "model = tf.keras.Sequential([\n",
    "    tf.keras.layers.Embedding(vocab_size, embedding_dim, input_length=max_length),\n",
    "    tf.keras.layers.Flatten(),\n",
    "    Dense(units=64, activation='relu', kernel_regularizer=regularizers.l2(0.01)),\n",
    "    tf.keras.layers.Dense(64, activation='relu'),\n",
    "    tf.keras.layers.Dense(32, activation='relu'),\n",
    "    tf.keras.layers.Dense(1, activation='sigmoid')\n",
    "])\n",
    "\n"
   ]
  },
  {
   "cell_type": "code",
   "execution_count": 20,
   "id": "977d231a",
   "metadata": {},
   "outputs": [
    {
     "name": "stdout",
     "output_type": "stream",
     "text": [
      "WARNING:tensorflow:From C:\\Users\\zouhi\\anaconda3\\Lib\\site-packages\\keras\\src\\optimizers\\__init__.py:309: The name tf.train.Optimizer is deprecated. Please use tf.compat.v1.train.Optimizer instead.\n",
      "\n",
      "Model: \"sequential\"\n",
      "_________________________________________________________________\n",
      " Layer (type)                Output Shape              Param #   \n",
      "=================================================================\n",
      " embedding (Embedding)       (None, 120, 32)           2880000   \n",
      "                                                                 \n",
      " flatten (Flatten)           (None, 3840)              0         \n",
      "                                                                 \n",
      " dense (Dense)               (None, 64)                245824    \n",
      "                                                                 \n",
      " dense_1 (Dense)             (None, 64)                4160      \n",
      "                                                                 \n",
      " dense_2 (Dense)             (None, 32)                2080      \n",
      "                                                                 \n",
      " dense_3 (Dense)             (None, 1)                 33        \n",
      "                                                                 \n",
      "=================================================================\n",
      "Total params: 3132097 (11.95 MB)\n",
      "Trainable params: 3132097 (11.95 MB)\n",
      "Non-trainable params: 0 (0.00 Byte)\n",
      "_________________________________________________________________\n"
     ]
    }
   ],
   "source": [
    "model.compile(loss='binary_crossentropy',optimizer='Adam',metrics=['accuracy'])\n",
    "\n",
    "model.summary()"
   ]
  },
  {
   "cell_type": "code",
   "execution_count": 21,
   "id": "1af5182b",
   "metadata": {
    "scrolled": true
   },
   "outputs": [
    {
     "name": "stdout",
     "output_type": "stream",
     "text": [
      "Epoch 1/10\n",
      "WARNING:tensorflow:From C:\\Users\\zouhi\\anaconda3\\Lib\\site-packages\\keras\\src\\utils\\tf_utils.py:492: The name tf.ragged.RaggedTensorValue is deprecated. Please use tf.compat.v1.ragged.RaggedTensorValue instead.\n",
      "\n",
      "WARNING:tensorflow:From C:\\Users\\zouhi\\anaconda3\\Lib\\site-packages\\keras\\src\\engine\\base_layer_utils.py:384: The name tf.executing_eagerly_outside_functions is deprecated. Please use tf.compat.v1.executing_eagerly_outside_functions instead.\n",
      "\n",
      "96/96 [==============================] - 4s 30ms/step - loss: 0.8186 - accuracy: 0.6077 - val_loss: 0.5802 - val_accuracy: 0.7331\n",
      "Epoch 2/10\n",
      "96/96 [==============================] - 3s 28ms/step - loss: 0.2966 - accuracy: 0.9297 - val_loss: 0.2112 - val_accuracy: 0.9453\n",
      "Epoch 3/10\n",
      "96/96 [==============================] - 2s 26ms/step - loss: 0.0632 - accuracy: 0.9951 - val_loss: 0.1430 - val_accuracy: 0.9466\n",
      "Epoch 4/10\n",
      "96/96 [==============================] - 3s 29ms/step - loss: 0.0317 - accuracy: 0.9987 - val_loss: 0.1926 - val_accuracy: 0.9323\n",
      "Epoch 5/10\n",
      "96/96 [==============================] - 3s 28ms/step - loss: 0.0246 - accuracy: 0.9980 - val_loss: 0.1219 - val_accuracy: 0.9583\n",
      "Epoch 6/10\n",
      "96/96 [==============================] - 3s 27ms/step - loss: 0.0127 - accuracy: 1.0000 - val_loss: 0.1180 - val_accuracy: 0.9505\n",
      "Epoch 7/10\n",
      "96/96 [==============================] - 3s 27ms/step - loss: 0.0089 - accuracy: 1.0000 - val_loss: 0.1164 - val_accuracy: 0.9505\n",
      "Epoch 8/10\n",
      "96/96 [==============================] - 3s 27ms/step - loss: 0.0076 - accuracy: 1.0000 - val_loss: 0.1192 - val_accuracy: 0.9518\n",
      "Epoch 9/10\n",
      "96/96 [==============================] - 3s 27ms/step - loss: 0.0091 - accuracy: 0.9993 - val_loss: 0.1483 - val_accuracy: 0.9505\n",
      "Epoch 10/10\n",
      "96/96 [==============================] - 3s 27ms/step - loss: 0.0050 - accuracy: 1.0000 - val_loss: 0.1573 - val_accuracy: 0.9401\n"
     ]
    }
   ],
   "source": [
    "N = 10\n",
    "# l'entrainement du medel\n",
    "history= model.fit(training_padded, training_labels, epochs = N, validation_data=(testing_padded, testing_labels))"
   ]
  },
  {
   "cell_type": "code",
   "execution_count": 22,
   "id": "239d6648",
   "metadata": {},
   "outputs": [
    {
     "name": "stdout",
     "output_type": "stream",
     "text": [
      "24/24 [==============================] - 0s 2ms/step\n",
      "Accuracy : 94.01%\n",
      "F1 Score : 94.25%\n"
     ]
    }
   ],
   "source": [
    "y_pred = model.predict(testing_padded)\n",
    "y_pred_binary = np.round(y_pred)\n",
    "accuracy = accuracy_score(testing_labels, y_pred_binary)\n",
    "f1 = f1_score(testing_labels, y_pred_binary)\n",
    "\n",
    "print(\"Accuracy : {:.2f}%\".format(accuracy * 100))\n",
    "print(\"F1 Score : {:.2f}%\".format(f1*100))"
   ]
  },
  {
   "cell_type": "code",
   "execution_count": 23,
   "id": "5cb8e6bd",
   "metadata": {},
   "outputs": [
    {
     "data": {
      "image/png": "[encoded data removed]",
      "text/plain": [
       "<Figure size 640x480 with 1 Axes>"
      ]
     },
     "metadata": {},
     "output_type": "display_data"
    },
    {
     "data": {
      "image/png": "[encoded data removed]",
      "text/plain": [
       "<Figure size 640x480 with 1 Axes>"
      ]
     },
     "metadata": {},
     "output_type": "display_data"
    }
   ],
   "source": [
    "import matplotlib.pyplot as plt\n",
    "\n",
    "def plot_graphs(history, string):\n",
    "  plt.plot(history.history[string])\n",
    "  plt.plot(history.history['val_'+string])\n",
    "  plt.xlabel(\"Epochs\")\n",
    "  plt.ylabel(string)\n",
    "  plt.legend([string, 'val_'+string])\n",
    "  plt.show()\n",
    "\n",
    "plot_graphs(history, 'accuracy')\n",
    "plot_graphs(history, 'loss')"
   ]
  },
  {
   "cell_type": "code",
   "execution_count": 25,
   "id": "4979bb2d",
   "metadata": {},
   "outputs": [
    {
     "name": "stdout",
     "output_type": "stream",
     "text": [
      "Le reel class est : 1\n",
      "1/1 [==============================] - 0s 87ms/step\n",
      "La classe predite est : 1.0\n"
     ]
    }
   ],
   "source": [
    "# n=1\n",
    "new_text =dt[\"comment\"][1]\n",
    "print('Le reel class est :', dt['label'][1])\n",
    "\n",
    "\n",
    "new_text_sequence = tokenizer.texts_to_sequences([new_text])\n",
    "padded_sequence = pad_sequences(new_text_sequence, maxlen=max_length, padding='post')\n",
    "\n",
    "# Prédiction\n",
    "prediction = model.predict(padded_sequence)\n",
    "\n",
    "# Affichage de la prédiction\n",
    "print(\"La classe predite est :\", np.round(prediction[0][0]))"
   ]
  },
  {
   "cell_type": "code",
   "execution_count": null,
   "id": "228b6fd9",
   "metadata": {},
   "outputs": [],
   "source": []
  },
  {
   "cell_type": "code",
   "execution_count": null,
   "id": "7bd21881",
   "metadata": {},
   "outputs": [],
   "source": []
  },
  {
   "cell_type": "code",
   "execution_count": null,
   "id": "dbae2a97",
   "metadata": {},
   "outputs": [],
   "source": []
  },
  {
   "cell_type": "code",
   "execution_count": null,
   "id": "d91cbda3",
   "metadata": {},
   "outputs": [],
   "source": []
  },
  {
   "cell_type": "code",
   "execution_count": null,
   "id": "6081a684",
   "metadata": {},
   "outputs": [],
   "source": []
  },
  {
   "cell_type": "code",
   "execution_count": null,
   "id": "dc9f53ff",
   "metadata": {},
   "outputs": [],
   "source": []
  }
 ],
 "metadata": {
  "celltoolbar": "Aucun(e)",
  "kernelspec": {
   "display_name": "Python 3 (ipykernel)",
   "language": "python",
   "name": "python3"
  },
  "language_info": {
   "codemirror_mode": {
    "name": "ipython",
    "version": 3
   },
   "file_extension": ".py",
   "mimetype": "text/x-python",
   "name": "python",
   "nbconvert_exporter": "python",
   "pygments_lexer": "ipython3",
   "version": "3.11.5"
  }
 },
 "nbformat": 4,
 "nbformat_minor": 5
}
